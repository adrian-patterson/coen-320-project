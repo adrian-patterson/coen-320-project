{
 "cells": [
  {
   "cell_type": "code",
   "execution_count": 4,
   "metadata": {},
   "outputs": [],
   "source": [
    "import pandas\n",
    "\n",
    "dataset = pandas.read_csv(\"dataset.csv\")"
   ]
  },
  {
   "cell_type": "code",
   "execution_count": 5,
   "metadata": {},
   "outputs": [],
   "source": [
    "dataset.Fuel_consumption.to_csv(\"Data/fuel_consumption.csv\", index=False, header=False)\n",
    "dataset.Engine_speed.to_csv(\"Data/engine_speed.csv\", index=False, header=False)\n",
    "dataset.Engine_coolant_temperature.to_csv(\"Data/engine_coolant_temperature.csv\", index=False, header=False)\n",
    "dataset.Current_Gear.to_csv(\"Data/current_gear.csv\", index=False, header=False)\n",
    "dataset.Vehicle_speed.to_csv(\"Data/vehicle_speed.csv\", index=False, header=False)"
   ]
  }
 ],
 "metadata": {
  "interpreter": {
   "hash": "916dbcbb3f70747c44a77c7bcd40155683ae19c65e1c03b4aa3499c5328201f1"
  },
  "kernelspec": {
   "display_name": "Python 3.8.10 64-bit",
   "language": "python",
   "name": "python3"
  },
  "language_info": {
   "codemirror_mode": {
    "name": "ipython",
    "version": 3
   },
   "file_extension": ".py",
   "mimetype": "text/x-python",
   "name": "python",
   "nbconvert_exporter": "python",
   "pygments_lexer": "ipython3",
   "version": "3.9.5"
  },
  "orig_nbformat": 4
 },
 "nbformat": 4,
 "nbformat_minor": 2
}
